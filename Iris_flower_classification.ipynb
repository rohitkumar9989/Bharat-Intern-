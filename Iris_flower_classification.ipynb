{
 "cells": [
  {
   "cell_type": "code",
   "execution_count": 27,
   "id": "47c80c9b",
   "metadata": {},
   "outputs": [],
   "source": [
    "import numpy as np \n",
    "import pandas as pd\n",
    "import matplotlib.pyplot as plt\n",
    "from sklearn.tree import DecisionTreeClassifier"
   ]
  },
  {
   "cell_type": "markdown",
   "id": "c02dc2d1",
   "metadata": {},
   "source": [
    "## Importing the Dataset"
   ]
  },
  {
   "cell_type": "code",
   "execution_count": 28,
   "id": "89b5f723",
   "metadata": {},
   "outputs": [],
   "source": [
    "dataset=pd.read_csv(\"IRIS.csv\")"
   ]
  },
  {
   "cell_type": "code",
   "execution_count": 29,
   "id": "bc93ef32",
   "metadata": {},
   "outputs": [],
   "source": [
    "X=dataset.drop([\"species\"], axis=1)\n",
    "Y=dataset[\"species\"]"
   ]
  },
  {
   "cell_type": "markdown",
   "id": "4eb1070e",
   "metadata": {},
   "source": [
    "## Splitting the dataset into train and test dataset of ration 6:4"
   ]
  },
  {
   "cell_type": "code",
   "execution_count": 30,
   "id": "656942ec",
   "metadata": {},
   "outputs": [],
   "source": [
    "from sklearn.model_selection import train_test_split\n",
    "X_train, X_test, Y_train, Y_test = train_test_split(X, Y, test_size=0.4)"
   ]
  },
  {
   "cell_type": "markdown",
   "id": "ead5ba4f",
   "metadata": {},
   "source": [
    "## Using the DecisionTreeClassifier from sklearn to perform this task"
   ]
  },
  {
   "cell_type": "code",
   "execution_count": 31,
   "id": "0c7f00bc",
   "metadata": {},
   "outputs": [
    {
     "data": {
      "text/plain": [
       "DecisionTreeClassifier(criterion='entropy', max_depth=4, random_state=4234)"
      ]
     },
     "execution_count": 31,
     "metadata": {},
     "output_type": "execute_result"
    }
   ],
   "source": [
    "iris = DecisionTreeClassifier(criterion=\"entropy\", max_depth = 4,random_state=4234)\n",
    "iris.fit(X_train,Y_train)"
   ]
  },
  {
   "cell_type": "markdown",
   "id": "d60a0550",
   "metadata": {},
   "source": [
    "## Fitting the X_test split dataset into the model"
   ]
  },
  {
   "cell_type": "code",
   "execution_count": 34,
   "id": "129d9791",
   "metadata": {},
   "outputs": [],
   "source": [
    "prediction = iris.predict(X_test)\n"
   ]
  },
  {
   "cell_type": "markdown",
   "id": "3599b2c3",
   "metadata": {},
   "source": [
    "## Evaluating the models performance"
   ]
  },
  {
   "cell_type": "code",
   "execution_count": 35,
   "id": "8e2a10bf",
   "metadata": {},
   "outputs": [
    {
     "name": "stdout",
     "output_type": "stream",
     "text": [
      "DecisionTrees's Accuracy:  1\n"
     ]
    }
   ],
   "source": [
    "from sklearn import metrics\n",
    "print(\"DecisionTrees's Accuracy: \", round(metrics.accuracy_score(Y_test, prediction)))"
   ]
  },
  {
   "cell_type": "code",
   "execution_count": 36,
   "id": "3b0d30fb",
   "metadata": {},
   "outputs": [
    {
     "data": {
      "text/plain": [
       "<matplotlib.collections.PathCollection at 0x2907d7b4910>"
      ]
     },
     "execution_count": 36,
     "metadata": {},
     "output_type": "execute_result"
    },
    {
     "data": {
      "image/png": "[encoded data removed]",
      "text/plain": [
       "<Figure size 432x288 with 1 Axes>"
      ]
     },
     "metadata": {
      "needs_background": "light"
     },
     "output_type": "display_data"
    }
   ],
   "source": [
    "plt.scatter(dataset[\"sepal_length\"],Y)"
   ]
  },
  {
   "cell_type": "code",
   "execution_count": 37,
   "id": "72ab73aa",
   "metadata": {},
   "outputs": [
    {
     "data": {
      "text/plain": [
       "<matplotlib.collections.PathCollection at 0x2907d80dee0>"
      ]
     },
     "execution_count": 37,
     "metadata": {},
     "output_type": "execute_result"
    },
    {
     "data": {
      "image/png": "[encoded data removed]",
      "text/plain": [
       "<Figure size 432x288 with 1 Axes>"
      ]
     },
     "metadata": {
      "needs_background": "light"
     },
     "output_type": "display_data"
    }
   ],
   "source": [
    "plt.scatter (dataset[\"sepal_length\"],iris.predict(X))"
   ]
  },
  {
   "cell_type": "code",
   "execution_count": null,
   "id": "2120388a",
   "metadata": {},
   "outputs": [],
   "source": []
  }
 ],
 "metadata": {
  "kernelspec": {
   "display_name": "Python 3 (ipykernel)",
   "language": "python",
   "name": "python3"
  },
  "language_info": {
   "codemirror_mode": {
    "name": "ipython",
    "version": 3
   },
   "file_extension": ".py",
   "mimetype": "text/x-python",
   "name": "python",
   "nbconvert_exporter": "python",
   "pygments_lexer": "ipython3",
   "version": "3.9.5"
  }
 },
 "nbformat": 4,
 "nbformat_minor": 5
}
